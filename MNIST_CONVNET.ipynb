{
  "cells": [
    {
      "cell_type": "markdown",
      "metadata": {
        "id": "BRzI6EUfn4de"
      },
      "source": [
        "# Simple MNIST convnet\n",
        "\n",
        "**Author:** [fchollet](https://twitter.com/fchollet)<br>\n",
        "**Date created:** 2015/06/19<br>\n",
        "**Last modified:** 2020/04/21<br>\n",
        "**Description:** A simple convnet that achieves ~99% test accuracy on MNIST."
      ]
    },
    {
      "cell_type": "markdown",
      "metadata": {
        "id": "12m3vTVfn4dg"
      },
      "source": [
        "## Setup"
      ]
    },
    {
      "cell_type": "code",
      "execution_count": 3,
      "metadata": {
        "id": "gAK18QaXn4dg"
      },
      "outputs": [],
      "source": [
        "import numpy as np\n",
        "from tensorflow import keras\n",
        "from tensorflow.keras import layers\n",
        "from tensorflow.keras.layers import Conv2D, MaxPooling2D, BatchNormalization ,Dense, Flatten,  Dropout"
      ]
    },
    {
      "cell_type": "markdown",
      "metadata": {
        "id": "WbWVX_00n4dh"
      },
      "source": [
        "## Prepare the data"
      ]
    },
    {
      "cell_type": "code",
      "execution_count": 3,
      "metadata": {
        "id": "IXOLLy8mn4dh",
        "outputId": "e2f8c856-1380-43cd-b3a8-655452217ff4",
        "colab": {
          "base_uri": "https://localhost:8080/"
        }
      },
      "outputs": [
        {
          "output_type": "stream",
          "name": "stdout",
          "text": [
            "Downloading data from https://storage.googleapis.com/tensorflow/tf-keras-datasets/mnist.npz\n",
            "11490434/11490434 [==============================] - 2s 0us/step\n",
            "x_train shape: (60000, 28, 28, 1)\n",
            "60000 train samples\n",
            "10000 test samples\n"
          ]
        }
      ],
      "source": [
        "# Model / data parameters\n",
        "num_classes = 2\n",
        "input_shape = (28, 28, 1)\n",
        "\n",
        "# Load the data and split it between train and test sets\n",
        "(x_train, y_train), (x_test, y_test) = keras.datasets.mnist.load_data()\n",
        "\n",
        "# Scale images to the [0, 1] range\n",
        "x_train = x_train.astype(\"float32\") / 255\n",
        "x_test = x_test.astype(\"float32\") / 255\n",
        "# Make sure images have shape (28, 28, 1)\n",
        "x_train = np.expand_dims(x_train, -1)\n",
        "x_test = np.expand_dims(x_test, -1)\n",
        "print(\"x_train shape:\", x_train.shape)\n",
        "print(x_train.shape[0], \"train samples\")\n",
        "print(x_test.shape[0], \"test samples\")\n",
        "\n",
        "\n",
        "# convert class vectors to binary class matrices\n",
        "y_train = keras.utils.to_categorical(y_train%2, num_classes)\n",
        "# y_train = y_train%2\n",
        "y_test = keras.utils.to_categorical(y_test%2, num_classes)\n",
        "# y_test = y_test%2"
      ]
    },
    {
      "cell_type": "code",
      "source": [
        "y_train"
      ],
      "metadata": {
        "id": "9HDh-nvJoJex",
        "outputId": "96979fd7-b3da-4835-f818-d1ca77451e19",
        "colab": {
          "base_uri": "https://localhost:8080/"
        }
      },
      "execution_count": 4,
      "outputs": [
        {
          "output_type": "execute_result",
          "data": {
            "text/plain": [
              "array([[0., 1.],\n",
              "       [1., 0.],\n",
              "       [1., 0.],\n",
              "       ...,\n",
              "       [0., 1.],\n",
              "       [1., 0.],\n",
              "       [1., 0.]], dtype=float32)"
            ]
          },
          "metadata": {},
          "execution_count": 4
        }
      ]
    },
    {
      "cell_type": "markdown",
      "metadata": {
        "id": "I4B9E6CKn4di"
      },
      "source": [
        "## Build the model"
      ]
    },
    {
      "cell_type": "code",
      "execution_count": 2,
      "metadata": {
        "id": "1SvJ8B3An4di",
        "outputId": "93b65872-2308-482d-ed03-d9fe5aaa075d",
        "colab": {
          "base_uri": "https://localhost:8080/",
          "height": 347
        }
      },
      "outputs": [
        {
          "output_type": "error",
          "ename": "NameError",
          "evalue": "ignored",
          "traceback": [
            "\u001b[0;31m---------------------------------------------------------------------------\u001b[0m",
            "\u001b[0;31mNameError\u001b[0m                                 Traceback (most recent call last)",
            "\u001b[0;32m<ipython-input-2-8b4e9f01a59c>\u001b[0m in \u001b[0;36m<cell line: 57>\u001b[0;34m()\u001b[0m\n\u001b[1;32m     55\u001b[0m \u001b[0;34m\u001b[0m\u001b[0m\n\u001b[1;32m     56\u001b[0m \u001b[0;34m\u001b[0m\u001b[0m\n\u001b[0;32m---> 57\u001b[0;31m \u001b[0mmodel\u001b[0m \u001b[0;34m=\u001b[0m \u001b[0mmodel\u001b[0m\u001b[0;34m(\u001b[0m\u001b[0;34m\"VGG\"\u001b[0m\u001b[0;34m)\u001b[0m\u001b[0;34m\u001b[0m\u001b[0;34m\u001b[0m\u001b[0m\n\u001b[0m\u001b[1;32m     58\u001b[0m \u001b[0mmodel\u001b[0m\u001b[0;34m.\u001b[0m\u001b[0msummary\u001b[0m\u001b[0;34m(\u001b[0m\u001b[0;34m)\u001b[0m\u001b[0;34m\u001b[0m\u001b[0;34m\u001b[0m\u001b[0m\n",
            "\u001b[0;32m<ipython-input-2-8b4e9f01a59c>\u001b[0m in \u001b[0;36mmodel\u001b[0;34m(name)\u001b[0m\n\u001b[1;32m     14\u001b[0m     )\n\u001b[1;32m     15\u001b[0m   \u001b[0;32melse\u001b[0m\u001b[0;34m:\u001b[0m\u001b[0;34m\u001b[0m\u001b[0;34m\u001b[0m\u001b[0m\n\u001b[0;32m---> 16\u001b[0;31m     \u001b[0mmodel\u001b[0m \u001b[0;34m=\u001b[0m \u001b[0mkeras\u001b[0m\u001b[0;34m.\u001b[0m\u001b[0mSequential\u001b[0m\u001b[0;34m(\u001b[0m\u001b[0;34m)\u001b[0m\u001b[0;34m\u001b[0m\u001b[0;34m\u001b[0m\u001b[0m\n\u001b[0m\u001b[1;32m     17\u001b[0m \u001b[0;34m\u001b[0m\u001b[0m\n\u001b[1;32m     18\u001b[0m     \u001b[0mmodel\u001b[0m\u001b[0;34m.\u001b[0m\u001b[0madd\u001b[0m\u001b[0;34m(\u001b[0m\u001b[0mConv2D\u001b[0m\u001b[0;34m(\u001b[0m\u001b[0;36m32\u001b[0m\u001b[0;34m,\u001b[0m \u001b[0;36m3\u001b[0m\u001b[0;34m,\u001b[0m \u001b[0mactivation\u001b[0m\u001b[0;34m=\u001b[0m\u001b[0;34m'relu'\u001b[0m\u001b[0;34m,\u001b[0m \u001b[0mpadding\u001b[0m\u001b[0;34m=\u001b[0m\u001b[0;34m'same'\u001b[0m\u001b[0;34m,\u001b[0m \u001b[0minput_shape\u001b[0m\u001b[0;34m=\u001b[0m\u001b[0;34m(\u001b[0m\u001b[0;36m28\u001b[0m\u001b[0;34m,\u001b[0m \u001b[0;36m28\u001b[0m\u001b[0;34m,\u001b[0m \u001b[0;36m1\u001b[0m\u001b[0;34m)\u001b[0m\u001b[0;34m)\u001b[0m\u001b[0;34m)\u001b[0m\u001b[0;34m\u001b[0m\u001b[0;34m\u001b[0m\u001b[0m\n",
            "\u001b[0;31mNameError\u001b[0m: name 'keras' is not defined"
          ]
        }
      ],
      "source": [
        "def model(name):\n",
        "  if name==\"SIMPLE\":\n",
        "    model = keras.Sequential(\n",
        "        [\n",
        "            keras.Input(shape=input_shape),\n",
        "            layers.Conv2D(32, kernel_size=(3, 3), activation=\"relu\"),\n",
        "            layers.MaxPooling2D(pool_size=(2, 2)),\n",
        "            layers.Conv2D(64, kernel_size=(3, 3), activation=\"relu\"),\n",
        "            layers.MaxPooling2D(pool_size=(2, 2)),\n",
        "            layers.Flatten(),\n",
        "            layers.Dropout(0.5),\n",
        "            layers.Dense(num_classes, activation=\"softmax\"),\n",
        "        ]\n",
        "    )\n",
        "  else:\n",
        "    model = keras.Sequential()\n",
        "\n",
        "    model.add(Conv2D(32, 3, activation='relu', padding='same', input_shape=(28, 28, 1)))\n",
        "    model.add(Conv2D(64, 3, activation='relu', padding='same'))\n",
        "    model.add(MaxPooling2D(2, 2))\n",
        "    model.add(BatchNormalization())\n",
        "\n",
        "    model.add(Conv2D(128, 3, activation='relu', padding='same'))\n",
        "    model.add(Conv2D(128, 3, activation='relu', padding='same'))\n",
        "    model.add(MaxPooling2D(2, 2))\n",
        "    model.add(BatchNormalization())\n",
        "\n",
        "    model.add(Conv2D(256, 3, activation='relu', padding='same'))\n",
        "    model.add(Conv2D(256, 3, activation='relu', padding='same'))\n",
        "    model.add(Conv2D(256, 3, activation='relu', padding='same'))\n",
        "    model.add(MaxPooling2D(2, 2))\n",
        "    model.add(BatchNormalization())\n",
        "\n",
        "    model.add(Conv2D(512, 3, activation='relu', padding='same'))\n",
        "    model.add(Conv2D(512, 3, activation='relu', padding='same'))\n",
        "    model.add(Conv2D(512, 3, activation='relu', padding='same'))\n",
        "    model.add(MaxPooling2D(2, 1)) # default stride is 2\n",
        "    model.add(BatchNormalization())\n",
        "\n",
        "    model.add(Conv2D(512, 3, activation='relu', padding='same'))\n",
        "    model.add(Conv2D(512, 3, activation='relu', padding='same'))\n",
        "    model.add(Conv2D(512, 3, activation='relu', padding='same'))\n",
        "    model.add(MaxPooling2D(2, 1)) # default stride is 2\n",
        "    model.add(BatchNormalization())\n",
        "\n",
        "    model.add(Flatten())\n",
        "    model.add(Dense(4096, activation='relu'))\n",
        "    model.add(Dropout(0.5))\n",
        "    model.add(Dense(4096, activation='relu'))\n",
        "    model.add(Dropout(0.5))\n",
        "\n",
        "    model.add(Dense(2, activation='softmax'))\n",
        "\n",
        "  return model\n",
        "\n",
        "\n",
        "model = model(\"VGG\")\n",
        "model.summary()"
      ]
    },
    {
      "cell_type": "markdown",
      "metadata": {
        "id": "8q3oPmGrn4di"
      },
      "source": [
        "## Train the model"
      ]
    },
    {
      "cell_type": "code",
      "execution_count": 11,
      "metadata": {
        "id": "iUfSwyzOn4dj",
        "outputId": "86548168-00df-4312-9469-e228c8ef2c26",
        "colab": {
          "base_uri": "https://localhost:8080/"
        }
      },
      "outputs": [
        {
          "output_type": "stream",
          "name": "stdout",
          "text": [
            "Epoch 1/15\n",
            "1688/1688 [==============================] - 69s 31ms/step - loss: 0.1331 - accuracy: 0.9634 - val_loss: 2.3405 - val_accuracy: 0.8777\n",
            "Epoch 2/15\n",
            "1688/1688 [==============================] - 52s 31ms/step - loss: 0.0650 - accuracy: 0.9832 - val_loss: 0.1087 - val_accuracy: 0.9892\n",
            "Epoch 3/15\n",
            "1688/1688 [==============================] - 53s 32ms/step - loss: 0.0479 - accuracy: 0.9876 - val_loss: 0.1600 - val_accuracy: 0.9557\n",
            "Epoch 4/15\n",
            "1688/1688 [==============================] - 54s 32ms/step - loss: 0.0401 - accuracy: 0.9892 - val_loss: 0.0407 - val_accuracy: 0.9918\n",
            "Epoch 5/15\n",
            "1688/1688 [==============================] - 53s 31ms/step - loss: 0.0310 - accuracy: 0.9912 - val_loss: 0.1721 - val_accuracy: 0.9592\n",
            "Epoch 6/15\n",
            "1688/1688 [==============================] - 53s 31ms/step - loss: 0.0258 - accuracy: 0.9928 - val_loss: 0.1694 - val_accuracy: 0.9680\n",
            "Epoch 7/15\n",
            "1688/1688 [==============================] - 53s 31ms/step - loss: 0.0227 - accuracy: 0.9935 - val_loss: 0.0667 - val_accuracy: 0.9863\n",
            "Epoch 8/15\n",
            "1688/1688 [==============================] - 54s 32ms/step - loss: 0.0165 - accuracy: 0.9950 - val_loss: 0.0577 - val_accuracy: 0.9880\n",
            "Epoch 9/15\n",
            "1688/1688 [==============================] - 53s 31ms/step - loss: 0.0222 - accuracy: 0.9939 - val_loss: 0.1871 - val_accuracy: 0.9653\n",
            "Epoch 10/15\n",
            "1688/1688 [==============================] - 53s 31ms/step - loss: 0.0129 - accuracy: 0.9962 - val_loss: 0.0383 - val_accuracy: 0.9957\n",
            "Epoch 11/15\n",
            "1688/1688 [==============================] - 53s 31ms/step - loss: 0.0123 - accuracy: 0.9966 - val_loss: 0.0316 - val_accuracy: 0.9943\n",
            "Epoch 12/15\n",
            "1688/1688 [==============================] - 53s 31ms/step - loss: 0.0112 - accuracy: 0.9968 - val_loss: 0.0523 - val_accuracy: 0.9945\n",
            "Epoch 13/15\n",
            "1688/1688 [==============================] - 53s 31ms/step - loss: 0.0136 - accuracy: 0.9962 - val_loss: 0.0423 - val_accuracy: 0.9957\n",
            "Epoch 14/15\n",
            "1688/1688 [==============================] - 54s 32ms/step - loss: 0.0085 - accuracy: 0.9975 - val_loss: 0.0456 - val_accuracy: 0.9943\n",
            "Epoch 15/15\n",
            "1688/1688 [==============================] - 53s 31ms/step - loss: 0.0088 - accuracy: 0.9978 - val_loss: 0.0278 - val_accuracy: 0.9950\n"
          ]
        },
        {
          "output_type": "execute_result",
          "data": {
            "text/plain": [
              "<keras.callbacks.History at 0x7f6350302aa0>"
            ]
          },
          "metadata": {},
          "execution_count": 11
        }
      ],
      "source": [
        "batch_size = 32\n",
        "epochs = 15\n",
        "\n",
        "model.compile(loss=\"categorical_crossentropy\", optimizer=\"adam\", metrics=[\"accuracy\"])\n",
        "\n",
        "model.fit(x_train, y_train, batch_size=batch_size, epochs=epochs, validation_split=0.1)"
      ]
    },
    {
      "cell_type": "markdown",
      "metadata": {
        "id": "MKhFcnISn4dj"
      },
      "source": [
        "## Evaluate the trained model"
      ]
    },
    {
      "cell_type": "code",
      "execution_count": 12,
      "metadata": {
        "id": "QwG0A3jnn4dj",
        "outputId": "23cbade7-56b0-4e3f-ca9c-7bdddd4c24cd",
        "colab": {
          "base_uri": "https://localhost:8080/"
        }
      },
      "outputs": [
        {
          "output_type": "stream",
          "name": "stdout",
          "text": [
            "Test loss: 0.019345199689269066\n",
            "Test accuracy: 0.9955999851226807\n"
          ]
        }
      ],
      "source": [
        "score = model.evaluate(x_test, y_test, verbose=0)\n",
        "print(\"Test loss:\", score[0])\n",
        "print(\"Test accuracy:\", score[1])"
      ]
    },
    {
      "cell_type": "code",
      "source": [],
      "metadata": {
        "id": "BF2I-qC7o7hw"
      },
      "execution_count": null,
      "outputs": []
    }
  ],
  "metadata": {
    "accelerator": "GPU",
    "colab": {
      "provenance": [],
      "toc_visible": true
    },
    "kernelspec": {
      "display_name": "Python 3",
      "language": "python",
      "name": "python3"
    },
    "language_info": {
      "codemirror_mode": {
        "name": "ipython",
        "version": 3
      },
      "file_extension": ".py",
      "mimetype": "text/x-python",
      "name": "python",
      "nbconvert_exporter": "python",
      "pygments_lexer": "ipython3",
      "version": "3.7.0"
    }
  },
  "nbformat": 4,
  "nbformat_minor": 0
}